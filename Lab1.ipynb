{
  "nbformat": 4,
  "nbformat_minor": 0,
  "metadata": {
    "colab": {
      "name": "Lab1.ipynb",
      "provenance": [],
      "authorship_tag": "ABX9TyOCgeXXW9tJBCY0jbl2xAWW",
      "include_colab_link": true
    },
    "kernelspec": {
      "display_name": "Python 3",
      "name": "python3"
    },
    "language_info": {
      "name": "python"
    }
  },
  "cells": [
    {
      "cell_type": "markdown",
      "metadata": {
        "id": "view-in-github",
        "colab_type": "text"
      },
      "source": [
        "<a href=\"https://colab.research.google.com/github/Aerold202011655/CPEN-21A-ECE-2-3/blob/main/Lab1.ipynb\" target=\"_parent\"><img src=\"https://colab.research.google.com/assets/colab-badge.svg\" alt=\"Open In Colab\"/></a>"
      ]
    },
    {
      "cell_type": "markdown",
      "metadata": {
        "id": "nI24rfrjosYA"
      },
      "source": [
        "Laboratory 1"
      ]
    },
    {
      "cell_type": "code",
      "metadata": {
        "colab": {
          "base_uri": "https://localhost:8080/"
        },
        "id": "zszoSunxgPXO",
        "outputId": "8554e5d6-697d-4602-8d46-838db81b1493"
      },
      "source": [
        "a = \"Welcome to Phyton Programming\" \n",
        "print(a)"
      ],
      "execution_count": null,
      "outputs": [
        {
          "name": "stdout",
          "output_type": "stream",
          "text": [
            "Welcome to Phyton Programming\n"
          ]
        }
      ]
    },
    {
      "cell_type": "code",
      "metadata": {
        "colab": {
          "base_uri": "https://localhost:8080/"
        },
        "id": "KPJC5GLNhZj7",
        "outputId": "67fdeb27-b0bb-47b9-c61d-59a517a41db4"
      },
      "source": [
        "a = \"Aerold V. Dichoso\"\n",
        "b = \"Blk 14 Lt15 Zone 12 Ph.4 Mabuhay Homes 2000, Paliparan 2, Dasmariñas, Cavite\"\n",
        "c = \"19 years old\"\n",
        "print(a)\n",
        "print(b)\n",
        "print(c)"
      ],
      "execution_count": 15,
      "outputs": [
        {
          "output_type": "stream",
          "name": "stdout",
          "text": [
            "Aerold V. Dichoso\n",
            "Blk 14 Lt15 Zone 12 Ph.4 Mabuhay Homes 2000, Paliparan 2, Dasmariñas, Cavite\n",
            "19 years old\n"
          ]
        }
      ]
    }
  ]
}