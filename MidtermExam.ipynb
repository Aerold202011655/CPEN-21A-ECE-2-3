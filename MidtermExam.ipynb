{
  "nbformat": 4,
  "nbformat_minor": 0,
  "metadata": {
    "colab": {
      "name": "MidtermExam.ipynb",
      "provenance": [],
      "authorship_tag": "ABX9TyOyMbSc3YWDTwAasQUSRSM9",
      "include_colab_link": true
    },
    "kernelspec": {
      "name": "python3",
      "display_name": "Python 3"
    },
    "language_info": {
      "name": "python"
    }
  },
  "cells": [
    {
      "cell_type": "markdown",
      "metadata": {
        "id": "view-in-github",
        "colab_type": "text"
      },
      "source": [
        "<a href=\"https://colab.research.google.com/github/Aerold202011655/CPEN-21A-ECE-2-3/blob/main/MidtermExam.ipynb\" target=\"_parent\"><img src=\"https://colab.research.google.com/assets/colab-badge.svg\" alt=\"Open In Colab\"/></a>"
      ]
    },
    {
      "cell_type": "markdown",
      "metadata": {
        "id": "JGcMH6A9sA2P"
      },
      "source": [
        "##PROBLEM STATEMENT 1"
      ]
    },
    {
      "cell_type": "code",
      "metadata": {
        "colab": {
          "base_uri": "https://localhost:8080/"
        },
        "id": "xV32mxt0sMVH",
        "outputId": "0365177d-4d16-4efd-fc7d-7df7e1e0524f"
      },
      "source": [
        "a = \"AEROLD VILLAMOR DICHOSO\"\n",
        "b = \"202011654\"\n",
        "c = \"19\"\n",
        "d = \"April 12 2002\"\n",
        "e = \"B14 L15 P4 MABUHAY HOMES 2000, PALIPARAN 2, DASMARIÑAS, CAVITE\"\n",
        "f = \"BSECE\"\n",
        "g = \"1.71\"\n",
        "print(a)\n",
        "print(b)\n",
        "print(c)\n",
        "print(d)\n",
        "print(e)\n",
        "print(f)\n",
        "print(g)"
      ],
      "execution_count": null,
      "outputs": [
        {
          "output_type": "stream",
          "name": "stdout",
          "text": [
            "AEROLD VILLAMOR DICHOSO\n",
            "202011654\n",
            "19\n",
            "April 12 2002\n",
            "B14 L15 P4 MABUHAY HOMES 2000, PALIPARAN 2, DASMARIÑAS, CAVITE\n",
            "BSECE\n",
            "1.71\n"
          ]
        }
      ]
    },
    {
      "cell_type": "markdown",
      "metadata": {
        "id": "aSjuGyhttPDe"
      },
      "source": [
        "##PROBLEM STATEMENT 2"
      ]
    },
    {
      "cell_type": "code",
      "metadata": {
        "colab": {
          "base_uri": "https://localhost:8080/"
        },
        "id": "hii3XV-G1s0S",
        "outputId": "c231384d-52bb-45b4-e34e-c12d3cdf898c"
      },
      "source": [
        "n = 4\n",
        "answ = \"Y\"\n",
        "print((2<n) and (n<6))\n",
        "print((2<n) or (n==6))\n",
        "print(not(2<n)or (n==6))\n",
        "print (not(n<6))\n",
        "print((answ==\"Y\") or (answ==\"y\"))\n",
        "print((answ==\"Y\") and (answ==\"y\"))\n",
        "print(not(answ==\"y\"))\n",
        "print(((2<n) and (n==5+1)) or (answ==\"No\"))\n",
        "print(((n==2) and (n==7)) or (answ==\"Y\"))\n",
        "print((n==2) and ((n==7) or (answ==\"Y\")))"
      ],
      "execution_count": 34,
      "outputs": [
        {
          "output_type": "stream",
          "name": "stdout",
          "text": [
            "True\n",
            "True\n",
            "False\n",
            "False\n",
            "True\n",
            "False\n",
            "True\n",
            "False\n",
            "True\n",
            "False\n"
          ]
        }
      ]
    },
    {
      "cell_type": "markdown",
      "metadata": {
        "id": "4dOiphrA10iO"
      },
      "source": [
        "##PROBLEM STATEMENT 3"
      ]
    },
    {
      "cell_type": "code",
      "metadata": {
        "colab": {
          "base_uri": "https://localhost:8080/"
        },
        "id": "_Pfa9Etc1-Nb",
        "outputId": "57cf72cb-d7f2-40fc-8b07-fd97fa197257"
      },
      "source": [
        "x = 2\n",
        "y = -3\n",
        "w = 7\n",
        "z = -10\n",
        "print(x/y)\n",
        "print(w/y/x)\n",
        "print(z/y%x)\n",
        "print(x%-y*w)\n",
        "print(x%y)\n",
        "print(z%w-y/x*5+5)\n",
        "print(9-x%(2+y))\n",
        "print(z//w)\n",
        "print(2+y**2)\n",
        "print(w/x*2)"
      ],
      "execution_count": 35,
      "outputs": [
        {
          "output_type": "stream",
          "name": "stdout",
          "text": [
            "-0.6666666666666666\n",
            "-1.1666666666666667\n",
            "1.3333333333333335\n",
            "14\n",
            "-1\n",
            "16.5\n",
            "9\n",
            "-2\n",
            "11\n",
            "7.0\n"
          ]
        }
      ]
    }
  ]
}