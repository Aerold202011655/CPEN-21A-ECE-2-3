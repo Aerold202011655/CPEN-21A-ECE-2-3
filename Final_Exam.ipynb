{
  "nbformat": 4,
  "nbformat_minor": 0,
  "metadata": {
    "colab": {
      "name": "Final Exam.ipynb",
      "provenance": [],
      "authorship_tag": "ABX9TyO62xhEtTSzRNNRyoue3nJu",
      "include_colab_link": true
    },
    "kernelspec": {
      "name": "python3",
      "display_name": "Python 3"
    },
    "language_info": {
      "name": "python"
    }
  },
  "cells": [
    {
      "cell_type": "markdown",
      "metadata": {
        "id": "view-in-github",
        "colab_type": "text"
      },
      "source": [
        "<a href=\"https://colab.research.google.com/github/Aerold202011655/CPEN-21A-ECE-2-3/blob/main/Final_Exam.ipynb\" target=\"_parent\"><img src=\"https://colab.research.google.com/assets/colab-badge.svg\" alt=\"Open In Colab\"/></a>"
      ]
    },
    {
      "cell_type": "markdown",
      "source": [
        "##Problem Statement 1"
      ],
      "metadata": {
        "id": "41YgB9OIvr1I"
      }
    },
    {
      "cell_type": "code",
      "source": [
        "\n",
        "##Summation of 10 numbers that are less than 5\n",
        "numbers=(1,2,3,4,5,6,7,-8,-9,-10)\n",
        "sum=0\n",
        "for n in numbers:\n",
        "  sum=sum+n\n",
        "print(\"The summation of numbers are =\", sum)"
      ],
      "metadata": {
        "colab": {
          "base_uri": "https://localhost:8080/"
        },
        "id": "Jy_VDPJshrev",
        "outputId": "cdc2fe8f-2217-4f71-e6c9-0ec7c3fe5a22"
      },
      "execution_count": null,
      "outputs": [
        {
          "output_type": "stream",
          "name": "stdout",
          "text": [
            "The summation of numbers are = 1\n"
          ]
        }
      ]
    },
    {
      "cell_type": "markdown",
      "source": [
        "##Problem Statement 2\n",
        "\n",
        "##Create a Python program that will produce accept five numbers and determine the sum of first and last number among the five numbers entered using WHILE LOOP"
      ],
      "metadata": {
        "id": "MRMxSdUA4eJO"
      }
    },
    {
      "cell_type": "code",
      "source": [
        "##Create a Python program that will produce accept five numbers and determine the sum of first and last number among the five numbers entered using WHILE LOOP\n",
        "\n",
        "i=1\n",
        "while i<=5:\n",
        "  print(i)\n",
        "  i+=1\n",
        "n = 12345\n",
        "res=n%10\n",
        "while n>9:\n",
        "  n=n//10\n",
        "res+=n\n",
        "print(\"The sum of 1st and last digit is\",res)"
      ],
      "metadata": {
        "colab": {
          "base_uri": "https://localhost:8080/"
        },
        "id": "HfoRuDSR4hNs",
        "outputId": "dcb94eb1-2c71-4594-d3f9-829898a8ce28"
      },
      "execution_count": null,
      "outputs": [
        {
          "output_type": "stream",
          "name": "stdout",
          "text": [
            "1\n",
            "2\n",
            "3\n",
            "4\n",
            "5\n",
            "The sum of 1st and last digit is 6\n"
          ]
        }
      ]
    },
    {
      "cell_type": "markdown",
      "source": [
        "\n",
        "##Problem Statement 3\n",
        "\n",
        "Create a Python program to calculate student grades. It accepts a numerical grade as input and it will display the character grade as output based on the given scale: (Use Nested-IF-Else statement)\n",
        "\n",
        "90 and above = A\n",
        "80-89 = B\n",
        "70-79 = C\n",
        "60-69 = D\n",
        "Below 60 = E"
      ],
      "metadata": {
        "id": "NH4bQRZa8uWj"
      }
    },
    {
      "cell_type": "code",
      "source": [
        "grade=int(input(\"Enter your grade:\"))\n",
        "if grade>=90:\n",
        "  print(\"A\")\n",
        "elif 80<=grade<90:\n",
        "  print(\"B\")\n",
        "elif 70<=grade<80:\n",
        "  print(\"C\")\n",
        "elif 60<=grade<70:\n",
        "  print(\"D\")\n",
        "else:\n",
        "  print(\"E\")"
      ],
      "metadata": {
        "colab": {
          "base_uri": "https://localhost:8080/"
        },
        "id": "OqW5ZKpfSLIo",
        "outputId": "df254f93-ee53-4583-9dc4-00e92f6e7efc"
      },
      "execution_count": null,
      "outputs": [
        {
          "output_type": "stream",
          "name": "stdout",
          "text": [
            "Enter your grade:100\n",
            "A\n"
          ]
        }
      ]
    }
  ]
}