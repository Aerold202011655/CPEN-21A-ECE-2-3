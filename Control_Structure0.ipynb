{
  "nbformat": 4,
  "nbformat_minor": 0,
  "metadata": {
    "colab": {
      "name": "Control Structure0.ipynb",
      "provenance": [],
      "authorship_tag": "ABX9TyNy4c1WKgD0/bjzHSlBhuJV",
      "include_colab_link": true
    },
    "kernelspec": {
      "name": "python3",
      "display_name": "Python 3"
    },
    "language_info": {
      "name": "python"
    }
  },
  "cells": [
    {
      "cell_type": "markdown",
      "metadata": {
        "id": "view-in-github",
        "colab_type": "text"
      },
      "source": [
        "<a href=\"https://colab.research.google.com/github/Aerold202011655/CPEN-21A-ECE-2-3/blob/main/Control_Structure0.ipynb\" target=\"_parent\"><img src=\"https://colab.research.google.com/assets/colab-badge.svg\" alt=\"Open In Colab\"/></a>"
      ]
    },
    {
      "cell_type": "markdown",
      "metadata": {
        "id": "lP5_bIhxyRqe"
      },
      "source": [
        "##IF STATEMENT"
      ]
    },
    {
      "cell_type": "code",
      "metadata": {
        "id": "uHqTiGAgyXvk"
      },
      "source": [
        "a=12\n",
        "b=100\n",
        "if a>b:\n",
        "  print(\"a is less than b\")"
      ],
      "execution_count": null,
      "outputs": []
    },
    {
      "cell_type": "markdown",
      "metadata": {
        "id": "cknSQRxDzdy2"
      },
      "source": [
        "##Elif Statement"
      ]
    },
    {
      "cell_type": "code",
      "metadata": {
        "colab": {
          "base_uri": "https://localhost:8080/"
        },
        "id": "kZRqv8SYzjf7",
        "outputId": "e9084f1b-5d5b-4ca2-b461-117cea19c7d3"
      },
      "source": [
        "a=30\n",
        "b=15\n",
        "if a<b:\n",
        "  print(\"a is less than b\")\n",
        "elif a>b:\n",
        "  print(\"a is greater than b\")"
      ],
      "execution_count": null,
      "outputs": [
        {
          "output_type": "stream",
          "name": "stdout",
          "text": [
            "a is greater than b\n"
          ]
        }
      ]
    },
    {
      "cell_type": "markdown",
      "metadata": {
        "id": "_AhnZiS70RYv"
      },
      "source": [
        "##Else Statement"
      ]
    },
    {
      "cell_type": "code",
      "metadata": {
        "colab": {
          "base_uri": "https://localhost:8080/"
        },
        "id": "CVNK4QXR0UKD",
        "outputId": "153e810d-76cf-4a61-da52-90c4bd5c11a4"
      },
      "source": [
        "a=30\n",
        "b=30\n",
        "if a<b:\n",
        "  print(\"a is less than b\")\n",
        "elif a>b:\n",
        "  print(\"a is greater than b\")\n",
        "else:\n",
        "  print(\"a is equal to b\")"
      ],
      "execution_count": null,
      "outputs": [
        {
          "output_type": "stream",
          "name": "stdout",
          "text": [
            "a is equal to b\n"
          ]
        }
      ]
    },
    {
      "cell_type": "markdown",
      "metadata": {
        "id": "OZeVf6cT00eD"
      },
      "source": [
        "##Short Hand If Statement"
      ]
    },
    {
      "cell_type": "code",
      "metadata": {
        "colab": {
          "base_uri": "https://localhost:8080/"
        },
        "id": "6rZu5YVa1FO8",
        "outputId": "03b7adb5-f6ff-4ded-d32d-f9ca2cc437fd"
      },
      "source": [
        "a=75\n",
        "b=32\n",
        "\n",
        "if a>b: print(\"a is greater than b\")"
      ],
      "execution_count": null,
      "outputs": [
        {
          "output_type": "stream",
          "name": "stdout",
          "text": [
            "a is greater than b\n"
          ]
        }
      ]
    },
    {
      "cell_type": "markdown",
      "metadata": {
        "id": "dhhGfnWN1VaQ"
      },
      "source": [
        "##Short Hand If.. Else Statement"
      ]
    },
    {
      "cell_type": "code",
      "metadata": {
        "colab": {
          "base_uri": "https://localhost:8080/"
        },
        "id": "eWFCERgZ1ajG",
        "outputId": "7543d3ee-b989-4f66-c595-a3c87922d4e4"
      },
      "source": [
        "print(\"a is greater than b\") if a>b else print(\"a is greater than b\")"
      ],
      "execution_count": null,
      "outputs": [
        {
          "output_type": "stream",
          "name": "stdout",
          "text": [
            "a is greater than b\n"
          ]
        }
      ]
    },
    {
      "cell_type": "markdown",
      "metadata": {
        "id": "TNzukIud2cW3"
      },
      "source": [
        "And Logic Condition"
      ]
    },
    {
      "cell_type": "code",
      "metadata": {
        "colab": {
          "base_uri": "https://localhost:8080/"
        },
        "id": "CIZy4Hcq2gaO",
        "outputId": "978d5ca4-88bc-4c00-d26f-fa8b650ba520"
      },
      "source": [
        "a=200\n",
        "b=23\n",
        "c=500\n",
        "if a>b and c>a:\n",
        "  print(\"Both conditions are True\")\n",
        "else:\n",
        "  print(\"Either of the two conditions is True\")"
      ],
      "execution_count": null,
      "outputs": [
        {
          "output_type": "stream",
          "name": "stdout",
          "text": [
            "Both conditions are True\n"
          ]
        }
      ]
    },
    {
      "cell_type": "markdown",
      "metadata": {
        "id": "siH4RKFl3k00"
      },
      "source": [
        "Or Logic Condition"
      ]
    },
    {
      "cell_type": "code",
      "metadata": {
        "id": "uabQ4gqF3o4A"
      },
      "source": [
        "if a<b or c>a:\n",
        "  print(\"atleast of the statements are true\")\n",
        "else:\n",
        "  print(\"none of the state mentd are true\")"
      ],
      "execution_count": null,
      "outputs": []
    },
    {
      "cell_type": "markdown",
      "metadata": {
        "id": "YLxzjElt4Cz9"
      },
      "source": [
        "##Nested If"
      ]
    },
    {
      "cell_type": "code",
      "metadata": {
        "colab": {
          "base_uri": "https://localhost:8080/"
        },
        "id": "GlHvDUrs4FXp",
        "outputId": "8cef0878-77bb-4c06-c127-8cd7c15d3043"
      },
      "source": [
        "x=20\n",
        "if x>10:\n",
        "  print(\"Above 10\")\n",
        "  if x>20:\n",
        "    print(\"and above 20!\")\n",
        "    if x>30:\n",
        "      print(\"and above 30\")\n",
        "    else:\n",
        "      print(\"not above 30\")\n",
        "  else:\n",
        "     print(\"not above 20\")\n",
        "else:\n",
        "  print(\"below 10\")"
      ],
      "execution_count": null,
      "outputs": [
        {
          "output_type": "stream",
          "name": "stdout",
          "text": [
            "Above 10\n",
            "not above 20\n"
          ]
        }
      ]
    },
    {
      "cell_type": "markdown",
      "metadata": {
        "id": "ZcKBPekD58KP"
      },
      "source": [
        "##Example1"
      ]
    },
    {
      "cell_type": "code",
      "metadata": {
        "id": "MMG20cKo5_2I",
        "colab": {
          "base_uri": "https://localhost:8080/"
        },
        "outputId": "c51453dd-661a-4cb8-c3c8-912753cfdcd2"
      },
      "source": [
        "\n",
        "#18 years old and above are qualified to vote\n",
        "\n",
        "age=int(input(\"How old are you:\"))\n",
        "if age >=18:\n",
        "  print (\"Qualified to vote\")\n",
        "else:\n",
        "  print (\"Not Qualified\")"
      ],
      "execution_count": null,
      "outputs": [
        {
          "output_type": "stream",
          "name": "stdout",
          "text": [
            "How old are you:19\n",
            "Qualified to vote\n"
          ]
        }
      ]
    },
    {
      "cell_type": "markdown",
      "metadata": {
        "id": "9zJqe9AW8QlH"
      },
      "source": [
        "##Example 2"
      ]
    },
    {
      "cell_type": "code",
      "metadata": {
        "colab": {
          "base_uri": "https://localhost:8080/"
        },
        "id": "-Gi2wqupGdJP",
        "outputId": "9d9c79c5-defc-411e-8805-080ac40f4c18"
      },
      "source": [
        "#Write a program that determines if the input is POSITIVE, NEGATIVE OR ZERO\n",
        "\n",
        "number=float(input(\"Guess any number:\"))\n",
        "if number>0:\n",
        "  print(\"POSITIVE\")\n",
        "elif number<0:\n",
        "  print(\"NEGATIVE\")\n",
        "else:\n",
        "  print(\"ZERO\")"
      ],
      "execution_count": null,
      "outputs": [
        {
          "output_type": "stream",
          "name": "stdout",
          "text": [
            "Guess any number:1\n",
            "POSITIVE\n"
          ]
        }
      ]
    },
    {
      "cell_type": "markdown",
      "metadata": {
        "id": "3uSkGlpT8hcR"
      },
      "source": [
        "##Example 3"
      ]
    },
    {
      "cell_type": "code",
      "metadata": {
        "id": "zNfEtT2b8nM_",
        "colab": {
          "base_uri": "https://localhost:8080/"
        },
        "outputId": "1e236989-ed9e-4277-80d6-5a05eb27ef55"
      },
      "source": [
        "#Write a Python program that determines if the grades are:\n",
        "#grade = 75 \"Passed\"\n",
        "#grade==74 \"Remedial\"\n",
        "#grade<74 \"Failed\"\n",
        "\n",
        "grade=int(input(\"Enter your grade:\"))\n",
        "if grade>75:\n",
        "  print(\"You Passed\")\n",
        "elif grade>74 and grade<76:\n",
        "  print(\"Remedial\")\n",
        "else:\n",
        "  print(\"You Failed\")"
      ],
      "execution_count": null,
      "outputs": [
        {
          "output_type": "stream",
          "name": "stdout",
          "text": [
            "Enter your grade:74\n",
            "You Failed\n"
          ]
        }
      ]
    }
  ]
}